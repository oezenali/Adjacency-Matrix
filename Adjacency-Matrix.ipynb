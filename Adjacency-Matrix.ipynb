{
 "cells": [
  {
   "cell_type": "code",
   "execution_count": 97,
   "metadata": {},
   "outputs": [
    {
     "name": "stdout",
     "output_type": "stream",
     "text": [
      "Sehir 01  =  Sari\n",
      "Sehir 02  =  Mavi\n",
      "Sehir 03  =  Kirmizi\n",
      "Sehir 04  =  Sari\n",
      "Sehir 05  =  Mavi\n",
      "Sehir 06  =  Kirmizi\n",
      "Sehir 07  =  Yesil\n",
      "Sehir 08  =  Mavi\n",
      "Sehir 09  =  Sari\n",
      "Sehir 10  =  Kirmizi\n",
      "Sehir 11  =  Mavi\n",
      "Sehir 12  =  Sari\n"
     ]
    }
   ],
   "source": [
    "# Adjacent Matrix\n",
    "G = [\n",
    "    [0, 1, 1, 0, 1, 0, 0, 1, 0, 1, 1, 0],\n",
    "    [1, 0, 1, 1, 0, 1, 1, 0, 1, 0, 0, 1],\n",
    "    [1, 1, 0, 1, 1, 0, 0, 1, 1, 0, 0, 1],\n",
    "    [0, 1, 1, 0, 0, 1, 1, 1, 0, 1, 1, 0],\n",
    "    [1, 0, 1, 0, 0, 1, 1, 0, 1, 1, 0, 1],\n",
    "    [0, 1, 0, 1, 1, 0, 0, 1, 1, 0, 1, 0],\n",
    "    [0, 1, 0, 1, 1, 0, 0, 1, 0, 1, 1, 0],\n",
    "    [1, 0, 1, 1, 0, 1, 1, 0, 1, 0, 0, 1],\n",
    "    [0, 1, 1, 0, 1, 1, 0, 1, 1, 0, 0, 1],\n",
    "    [1, 0, 0, 1, 1, 0, 1, 1, 0, 1, 1, 0],\n",
    "    [1, 0, 0, 1, 0, 1, 1, 0, 1, 1, 0, 1],\n",
    "    [0, 1, 1, 0, 1, 0, 0, 1, 1, 0, 1, 0],\n",
    "]\n",
    "\n",
    "node = \"01\",\"02\",\"03\",\"04\",\"05\",\"06\",\"07\",\"08\",\"09\",\"10\",\"11\",\"12\"\n",
    "t_ = {}\n",
    "for i in range(len(G)):\n",
    "    t_[node[i]] = i\n",
    "\n",
    "degree = []\n",
    "for i in range(len(G)):\n",
    "    degree.append(sum(G[i]))\n",
    "\n",
    "renkler = {}\n",
    "for i in range(len(G)):\n",
    "    renkler[node[i]] = [\"Mavi\", \"Kirmizi\", \"Sari\", \"Yesil\"]\n",
    "\n",
    "sortedNode = []\n",
    "indeks = []\n",
    "\n",
    "for i in range(len(degree)):\n",
    "    _max = 0\n",
    "    j = 0\n",
    "    for j in range(len(degree)):\n",
    "        if j not in indeks:\n",
    "            if degree[j] > _max:\n",
    "                _max = degree[j]\n",
    "                idx = j\n",
    "    indeks.append(idx)\n",
    "    sortedNode.append(node[idx])\n",
    "\n",
    "theSolution = {}\n",
    "for n in sortedNode:\n",
    "    setTheColor = renkler[n]\n",
    "    theSolution[n] = setTheColor[0]\n",
    "    adjacentNode = G[t_[n]]\n",
    "    for j in range(len(adjacentNode)):\n",
    "        if adjacentNode[j] == 1 and (setTheColor[0] in renkler[node[j]]):\n",
    "            renkler[node[j]].remove(setTheColor[0])\n",
    "\n",
    "\n",
    "for t, w in sorted(theSolution.items()):\n",
    "    print(\"Sehir\", t, \" = \", w)\n"
   ]
  },
  {
   "cell_type": "code",
   "execution_count": 98,
   "metadata": {},
   "outputs": [
    {
     "data": {
      "text/plain": [
       "tuple"
      ]
     },
     "execution_count": 98,
     "metadata": {},
     "output_type": "execute_result"
    }
   ],
   "source": [
    "type(node)"
   ]
  },
  {
   "cell_type": "code",
   "execution_count": null,
   "metadata": {},
   "outputs": [],
   "source": []
  },
  {
   "cell_type": "code",
   "execution_count": null,
   "metadata": {},
   "outputs": [],
   "source": []
  }
 ],
 "metadata": {
  "kernelspec": {
   "display_name": "Python 3",
   "language": "python",
   "name": "python3"
  },
  "language_info": {
   "codemirror_mode": {
    "name": "ipython",
    "version": 3
   },
   "file_extension": ".py",
   "mimetype": "text/x-python",
   "name": "python",
   "nbconvert_exporter": "python",
   "pygments_lexer": "ipython3",
   "version": "3.8.3"
  }
 },
 "nbformat": 4,
 "nbformat_minor": 4
}
